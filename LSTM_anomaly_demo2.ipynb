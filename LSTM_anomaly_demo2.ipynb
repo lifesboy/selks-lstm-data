{
  "nbformat": 4,
  "nbformat_minor": 0,
  "metadata": {
    "colab": {
      "provenance": [],
      "collapsed_sections": [
        "DER9DuHSa5hH"
      ],
      "include_colab_link": true
    },
    "kernelspec": {
      "name": "python3",
      "display_name": "Python 3"
    },
    "language_info": {
      "name": "python"
    }
  },
  "cells": [
    {
      "cell_type": "markdown",
      "metadata": {
        "id": "view-in-github",
        "colab_type": "text"
      },
      "source": [
        "<a href=\"https://colab.research.google.com/github/lifesboy/selks-lstm-data/blob/main/LSTM_anomaly_demo2.ipynb\" target=\"_parent\"><img src=\"https://colab.research.google.com/assets/colab-badge.svg\" alt=\"Open In Colab\"/></a>"
      ]
    },
    {
      "cell_type": "markdown",
      "metadata": {
        "id": "oEBYbD0jw2PI"
      },
      "source": [
        "## **Init IDS data**"
      ]
    },
    {
      "cell_type": "code",
      "source": [
        "#@title download data\n",
        "!rm -rf /cic && git clone https://github.com/lifesboy/selks-lstm-data.git /cic"
      ],
      "metadata": {
        "colab": {
          "base_uri": "https://localhost:8080/"
        },
        "id": "GHqB7AXfCHKJ",
        "outputId": "241d0126-b04e-4b20-83f4-e13ffb553919"
      },
      "execution_count": null,
      "outputs": [
        {
          "output_type": "stream",
          "name": "stdout",
          "text": [
            "Cloning into '/cic'...\n",
            "remote: Enumerating objects: 77, done.\u001b[K\n",
            "remote: Counting objects: 100% (77/77), done.\u001b[K\n",
            "remote: Compressing objects: 100% (74/74), done.\u001b[K\n",
            "remote: Total 77 (delta 32), reused 20 (delta 0), pack-reused 0\u001b[K\n",
            "Unpacking objects: 100% (77/77), done.\n"
          ]
        }
      ]
    },
    {
      "cell_type": "code",
      "metadata": {
        "id": "NLezzTSoMcI8"
      },
      "source": [
        "#@title import libs\n",
        "\n",
        "from matplotlib import pyplot as plt\n",
        "import go\n",
        "import tensorflow as tf\n",
        "import pandas as pd\n",
        "import numpy as np\n",
        "import sklearn\n",
        "from keras.models import Sequential, load_model\n",
        "from sklearn.model_selection import train_test_split\n",
        "from sklearn.linear_model import LogisticRegression\n",
        "from sklearn import preprocessing\n",
        "from sklearn.preprocessing import LabelEncoder, StandardScaler\n",
        "from sklearn.metrics import confusion_matrix\n",
        "from keras.utils import np_utils\n",
        "\n",
        "def show_scattered(x):\n",
        "  A = np.matrix(x)\n",
        "  #scatter plot x - column 0, y - column 1, shown with marker o\n",
        "  plt.plot(A[:, 0], A[:, 1], 'o', label = 'data')\n",
        "  plt.legend()\n",
        "  plt.show()"
      ],
      "execution_count": null,
      "outputs": []
    },
    {
      "cell_type": "code",
      "metadata": {
        "id": "KzFzH3CAMmxQ"
      },
      "source": [
        "df = pd.read_csv('/cic/dataset/feature_extracted/cic2018/Wednesday-14-02-2018_TrafficForML_CICFlowMeter.csv.00001.csv.00000.csv')\n",
        "df.head(2)\n",
        "df.drop(df.loc[df['label'] == 'label'].index, inplace=True)"
      ],
      "execution_count": null,
      "outputs": []
    },
    {
      "cell_type": "code",
      "metadata": {
        "id": "HixtSvMpM_Fq"
      },
      "source": [
        "metadata = ['fl_dur' #Flow duration\n",
        ",'tot_fw_pk' #Total packets in the forward direction\n",
        ",'tot_bw_pk' #Total packets in the backward direction\n",
        ",'tot_l_fw_pkt' #Total size of packet in forward direction\n",
        ",'fw_pkt_l_max' #Maximum size of packet in forward direction\n",
        ",'fw_pkt_l_min' #Minimum size of packet in forward direction\n",
        ",'fw_pkt_l_avg' #Average size of packet in forward direction\n",
        ",'fw_pkt_l_std' #Standard deviation size of packet in forward direction\n",
        ",'Bw_pkt_l_max' #Maximum size of packet in backward direction\n",
        ",'Bw_pkt_l_min' #Minimum size of packet in backward direction\n",
        ",'Bw_pkt_l_avg' #Mean size of packet in backward direction\n",
        ",'Bw_pkt_l_std' #Standard deviation size of packet in backward direction\n",
        ",'fl_byt_s' #flow byte rate that is number of packets transferred per second\n",
        ",'fl_pkt_s' #flow packets rate that is number of packets transferred per second\n",
        ",'fl_iat_avg' #Average time between two flows\n",
        ",'fl_iat_std' #Standard deviation time two flows\n",
        ",'fl_iat_max' #Maximum time between two flows\n",
        ",'fl_iat_min' #Minimum time between two flows\n",
        ",'fw_iat_tot' #Total time between two packets sent in the forward direction\n",
        ",'fw_iat_avg' #Mean time between two packets sent in the forward direction\n",
        ",'fw_iat_std' #Standard deviation time between two packets sent in the forward direction\n",
        ",'fw_iat_max' #Maximum time between two packets sent in the forward direction\n",
        ",'fw_iat_min' #Minimum time between two packets sent in the forward direction\n",
        ",'bw_iat_tot' #Total time between two packets sent in the backward direction\n",
        ",'bw_iat_avg' #Mean time between two packets sent in the backward direction\n",
        ",'bw_iat_std' #Standard deviation time between two packets sent in the backward direction\n",
        ",'bw_iat_max' #Maximum time between two packets sent in the backward direction\n",
        ",'bw_iat_min' #Minimum time between two packets sent in the backward direction\n",
        ",'fw_psh_flag' #Number of times the PSH flag was set in packets travelling in the forward direction (0 for UDP)\n",
        ",'bw_psh_flag' #Number of times the PSH flag was set in packets travelling in the backward direction (0 for UDP)\n",
        ",'fw_urg_flag' #Number of times the URG flag was set in packets travelling in the forward direction (0 for UDP)\n",
        ",'bw_urg_flag' #Number of times the URG flag was set in packets travelling in the backward direction (0 for UDP)\n",
        ",'fw_hdr_len' #Total bytes used for headers in the forward direction\n",
        ",'bw_hdr_len' #Total bytes used for headers in the forward direction\n",
        ",'fw_pkt_s' #Number of forward packets per second\n",
        ",'bw_pkt_s' #Number of backward packets per second\n",
        ",'pkt_len_min' #Minimum length of a flow\n",
        ",'pkt_len_max' #Maximum length of a flow\n",
        ",'pkt_len_avg' #Mean length of a flow\n",
        ",'pkt_len_std' #Standard deviation length of a flow\n",
        ",'pkt_len_va' #Minimum inter-arrival time of packet\n",
        ",'fin_cnt' #Number of packets with FIN\n",
        ",'syn_cnt' #Number of packets with SYN\n",
        ",'rst_cnt' #Number of packets with RST\n",
        ",'pst_cnt' #Number of packets with PUSH\n",
        ",'ack_cnt' #Number of packets with ACK\n",
        ",'urg_cnt' #Number of packets with URG\n",
        ",'cwe_cnt' #Number of packets with CWE\n",
        ",'ece_cnt' #Number of packets with ECE\n",
        ",'down_up_ratio' #Download and upload ratio\n",
        ",'pkt_size_avg' #Average size of packet\n",
        ",'fw_seg_avg' #Average size observed in the forward direction\n",
        ",'bw_seg_avg' #Average size observed in the backward direction\n",
        ",'fw_byt_blk_avg' #Average number of bytes bulk rate in the forward direction\n",
        ",'fw_pkt_blk_avg' #Average number of packets bulk rate in the forward direction\n",
        ",'fw_blk_rate_avg' #Average number of bulk rate in the forward direction\n",
        ",'bw_byt_blk_avg' #Average number of bytes bulk rate in the backward direction\n",
        ",'bw_pkt_blk_avg' #Average number of packets bulk rate in the backward direction\n",
        ",'bw_blk_rate_avg' #Average number of bulk rate in the backward direction\n",
        ",'subfl_fw_pk' #The average number of packets in a sub flow in the forward direction\n",
        ",'subfl_fw_byt' #The average number of bytes in a sub flow in the forward direction\n",
        ",'subfl_bw_pkt' #The average number of packets in a sub flow in the backward direction\n",
        ",'subfl_bw_byt' #The average number of bytes in a sub flow in the backward direction\n",
        ",'fw_win_byt' #Number of bytes sent in initial window in the forward direction\n",
        ",'bw_win_byt' ## of bytes sent in initial window in the backward direction\n",
        ",'Fw_act_pkt' ## of packets with at least 1 byte of TCP data payload in the forward direction\n",
        ",'fw_seg_min' #Minimum segment size observed in the forward direction\n",
        ",'atv_avg' #Mean time a flow was active before becoming idle\n",
        ",'atv_std' #Standard deviation time a flow was active before becoming idle\n",
        ",'atv_max' #Maximum time a flow was active before becoming idle\n",
        ",'atv_min' #Minimum time a flow was active before becoming idle\n",
        ",'idl_avg' #Mean time a flow was idle before becoming active\n",
        ",'idl_std' #Standard deviation time a flow was idle before becoming active\n",
        ",'idl_max' #Maximum time a flow was idle before becoming active\n",
        ",'idl_min' #Minimum time a flow was idle before becoming active\n",
        "]"
      ],
      "execution_count": null,
      "outputs": []
    },
    {
      "cell_type": "code",
      "metadata": {
        "id": "s9ZjigalNCIZ",
        "colab": {
          "base_uri": "https://localhost:8080/"
        },
        "outputId": "e8f03c1d-b84a-405b-b540-d3a0369e13ff"
      },
      "source": [
        "df.columns"
      ],
      "execution_count": null,
      "outputs": [
        {
          "output_type": "execute_result",
          "data": {
            "text/plain": [
              "Index(['dst_port', 'protocol', 'timestamp', 'flow_duration', 'tot_fwd_pkts',\n",
              "       'tot_bwd_pkts', 'totlen_fwd_pkts', 'totlen_bwd_pkts', 'fwd_pkt_len_max',\n",
              "       'fwd_pkt_len_min', 'fwd_pkt_len_mean', 'fwd_pkt_len_std',\n",
              "       'bwd_pkt_len_max', 'bwd_pkt_len_min', 'bwd_pkt_len_mean',\n",
              "       'bwd_pkt_len_std', 'flow_byts_s', 'flow_pkts_s', 'flow_iat_mean',\n",
              "       'flow_iat_std', 'flow_iat_max', 'flow_iat_min', 'fwd_iat_tot',\n",
              "       'fwd_iat_mean', 'fwd_iat_std', 'fwd_iat_max', 'fwd_iat_min',\n",
              "       'bwd_iat_tot', 'bwd_iat_mean', 'bwd_iat_std', 'bwd_iat_max',\n",
              "       'bwd_iat_min', 'fwd_psh_flags', 'bwd_psh_flags', 'fwd_urg_flags',\n",
              "       'bwd_urg_flags', 'fwd_header_len', 'bwd_header_len', 'fwd_pkts_s',\n",
              "       'bwd_pkts_s', 'pkt_len_min', 'pkt_len_max', 'pkt_len_mean',\n",
              "       'pkt_len_std', 'pkt_len_var', 'fin_flag_cnt', 'syn_flag_cnt',\n",
              "       'rst_flag_cnt', 'psh_flag_cnt', 'ack_flag_cnt', 'urg_flag_cnt',\n",
              "       'cwe_flag_count', 'ece_flag_cnt', 'down_up_ratio', 'pkt_size_avg',\n",
              "       'fwd_seg_size_avg', 'bwd_seg_size_avg', 'fwd_byts_b_avg',\n",
              "       'fwd_pkts_b_avg', 'fwd_blk_rate_avg', 'bwd_byts_b_avg',\n",
              "       'bwd_pkts_b_avg', 'bwd_blk_rate_avg', 'subflow_fwd_pkts',\n",
              "       'subflow_fwd_byts', 'subflow_bwd_pkts', 'subflow_bwd_byts',\n",
              "       'init_fwd_win_byts', 'init_bwd_win_byts', 'fwd_act_data_pkts',\n",
              "       'fwd_seg_size_min', 'active_mean', 'active_std', 'active_max',\n",
              "       'active_min', 'idle_mean', 'idle_std', 'idle_max', 'idle_min', 'label'],\n",
              "      dtype='object')"
            ]
          },
          "metadata": {},
          "execution_count": 5
        }
      ]
    },
    {
      "cell_type": "markdown",
      "metadata": {
        "id": "Hi48qgaewUOb"
      },
      "source": [
        "## **LSTM**"
      ]
    },
    {
      "cell_type": "markdown",
      "metadata": {
        "id": "H84qHurZa0Kt"
      },
      "source": [
        "### **Binary Class**"
      ]
    },
    {
      "cell_type": "markdown",
      "metadata": {
        "id": "NwxgMvWEE6g1"
      },
      "source": [
        "#### **Prepare data**"
      ]
    },
    {
      "cell_type": "code",
      "metadata": {
        "id": "xO_0J1yQOAVY"
      },
      "source": [
        "features = ['Timestamp', 'Fwd Pkt Len Std', 'Fwd Pkt Len Mean',\n",
        "       'Fwd Pkt Len Max', 'Fwd Seg Size Avg', 'Pkt Len Std', 'Flow IAT Std',\n",
        "       'Bwd Pkt Len Std', 'Bwd Seg Size Avg', 'Pkt Size Avg',\n",
        "       'Subflow Fwd Byts']\n",
        "features = [i.lower().replace(' ', '_') for i in features]"
      ],
      "execution_count": null,
      "outputs": []
    },
    {
      "cell_type": "code",
      "metadata": {
        "id": "17a7f5rWNNXZ"
      },
      "source": [
        "def targetify(s):\n",
        "    if s == 'Benign':\n",
        "        return 0\n",
        "    else:\n",
        "        return 1"
      ],
      "execution_count": null,
      "outputs": []
    },
    {
      "cell_type": "code",
      "metadata": {
        "id": "Jyv3ec_KwtFz",
        "colab": {
          "base_uri": "https://localhost:8080/"
        },
        "outputId": "c8c79961-c9a6-44ee-e0f1-f32fa5c55a4b"
      },
      "source": [
        "X = df[features]\n",
        "X[features] = X[features].apply(pd.to_numeric, errors='coerce', axis=1)\n",
        "X = X.fillna(0)\n",
        "labels = df['label']    #For multiclass classification\n"
      ],
      "execution_count": null,
      "outputs": [
        {
          "output_type": "stream",
          "name": "stderr",
          "text": [
            "/usr/local/lib/python3.8/dist-packages/pandas/core/frame.py:3641: SettingWithCopyWarning: \n",
            "A value is trying to be set on a copy of a slice from a DataFrame.\n",
            "Try using .loc[row_indexer,col_indexer] = value instead\n",
            "\n",
            "See the caveats in the documentation: https://pandas.pydata.org/pandas-docs/stable/user_guide/indexing.html#returning-a-view-versus-a-copy\n",
            "  self[k1] = value[k2]\n"
          ]
        }
      ]
    },
    {
      "cell_type": "code",
      "metadata": {
        "id": "gCbbLe-fsFll"
      },
      "source": [
        "df['target']=df['label'].apply(targetify)\n",
        "y = df['target']"
      ],
      "execution_count": null,
      "outputs": []
    },
    {
      "cell_type": "markdown",
      "metadata": {
        "id": "ExRZ3yLNyswE"
      },
      "source": [
        "Normal Execution"
      ]
    },
    {
      "cell_type": "code",
      "metadata": {
        "id": "5ZupR410ws7J",
        "colab": {
          "base_uri": "https://localhost:8080/"
        },
        "outputId": "2cc5391d-05d2-42aa-ac0b-8495c25cc77e"
      },
      "source": [
        "X_train, X_test, y_train, y_test = train_test_split(X, y, test_size=0.2)\n",
        "print (X_train.shape, y_train.shape)\n",
        "print( X_test.shape, y_test.shape)"
      ],
      "execution_count": null,
      "outputs": [
        {
          "output_type": "stream",
          "name": "stdout",
          "text": [
            "(80000, 11) (80000,)\n",
            "(20000, 11) (20000,)\n"
          ]
        }
      ]
    },
    {
      "cell_type": "markdown",
      "metadata": {
        "id": "vpr26iooyw4v"
      },
      "source": [
        "Faster Execution (1% rows)"
      ]
    },
    {
      "cell_type": "code",
      "metadata": {
        "id": "MP40NJBNyKL6",
        "colab": {
          "base_uri": "https://localhost:8080/"
        },
        "outputId": "4d5a2416-839b-4f4f-c468-a1d7a95cb23d"
      },
      "source": [
        "# selecting 1% of random rows for better running time\n",
        "\n",
        "#X_train = X_train.sample(frac=0.1, replace=True, random_state=1)\n",
        "#y_train = y_train.sample(frac=0.1, replace=True, random_state=1)\n",
        "#X_test = X_test.sample(frac=0.1, replace=True, random_state=1)\n",
        "#y_test = y_test.sample(frac=0.1, replace=True, random_state=1)\n",
        "#print (X_train.shape, y_train.shape)\n",
        "#print( X_test.shape, y_test.shape)"
      ],
      "execution_count": null,
      "outputs": [
        {
          "output_type": "stream",
          "name": "stdout",
          "text": [
            "(8000, 11) (8000,)\n",
            "(2000, 11) (2000,)\n"
          ]
        }
      ]
    },
    {
      "cell_type": "markdown",
      "metadata": {
        "id": "6OVvBiRBEzeg"
      },
      "source": [
        "#### **Train**"
      ]
    },
    {
      "cell_type": "code",
      "metadata": {
        "id": "h4TWHdVGyQTz",
        "colab": {
          "base_uri": "https://localhost:8080/"
        },
        "outputId": "00702c79-fb99-4f09-877c-ac34862fba42"
      },
      "source": [
        "min_max_scaler = preprocessing.MinMaxScaler()\n",
        "x_scaled = min_max_scaler.fit_transform(X_train.values)\n",
        "X_train = pd.DataFrame(x_scaled,columns=features)\n",
        "x_scaled_test = min_max_scaler.fit_transform(X_test.values)\n",
        "X_test = pd.DataFrame(x_scaled_test,columns=features)\n",
        "\n",
        "train_size = 1000\n",
        "test_size = 200\n",
        "n_timestamp_in = 30\n",
        "n_features = 11\n",
        "\n",
        "CX_train = X_train.sample(train_size * n_timestamp_in).values.reshape(train_size, n_timestamp_in, n_features)\n",
        "Cy_train = y_train.sample(train_size * n_timestamp_in).values.reshape(train_size, n_timestamp_in, 1)\n",
        "\n",
        "CX_test = X_test.sample(test_size * n_timestamp_in).values.reshape(test_size, n_timestamp_in, n_features)\n",
        "Cy_test = y_train.sample(test_size * n_timestamp_in).values.reshape(test_size, n_timestamp_in, 1)\n",
        "\n",
        "print(\"CX_train=\", CX_train.shape)\n",
        "print(\"Cy_train=\", Cy_train.shape)\n",
        "print(\"CX_test=\", CX_test.shape)\n",
        "print(\"Cy_test=\", Cy_test.shape)\n"
      ],
      "execution_count": null,
      "outputs": [
        {
          "output_type": "stream",
          "name": "stdout",
          "text": [
            "CX_train= (1000, 30, 11)\n",
            "Cy_train= (1000, 30, 1)\n",
            "CX_test= (200, 30, 11)\n",
            "Cy_test= (200, 30, 1)\n"
          ]
        }
      ]
    },
    {
      "cell_type": "code",
      "metadata": {
        "id": "Rf2vrS4pwsuh",
        "colab": {
          "base_uri": "https://localhost:8080/"
        },
        "outputId": "b8367b53-f975-49cb-85a5-cef7add45e82"
      },
      "source": [
        "cell_size = 128\n",
        "\n",
        "model = Sequential()\n",
        "model.add(tf.keras.layers.LSTM(cell_size, input_shape=(n_timestamp_in, n_features)))\n",
        "model.add(tf.keras.layers.Dropout(rate=0.2))\n",
        "model.add(tf.keras.layers.RepeatVector(n_timestamp_in))\n",
        "model.add(tf.keras.layers.LSTM(cell_size, return_sequences=True))\n",
        "model.add(tf.keras.layers.Dropout(rate=0.2))\n",
        "model.add(tf.keras.layers.TimeDistributed(tf.keras.layers.Dense(1)))\n",
        "\n",
        "model.summary()"
      ],
      "execution_count": null,
      "outputs": [
        {
          "output_type": "stream",
          "name": "stdout",
          "text": [
            "Model: \"sequential_8\"\n",
            "_________________________________________________________________\n",
            " Layer (type)                Output Shape              Param #   \n",
            "=================================================================\n",
            " lstm_8 (LSTM)               (None, 128)               71680     \n",
            "                                                                 \n",
            " dropout_7 (Dropout)         (None, 128)               0         \n",
            "                                                                 \n",
            " repeat_vector_3 (RepeatVect  (None, 30, 128)          0         \n",
            " or)                                                             \n",
            "                                                                 \n",
            " lstm_9 (LSTM)               (None, 30, 128)           131584    \n",
            "                                                                 \n",
            " dropout_8 (Dropout)         (None, 30, 128)           0         \n",
            "                                                                 \n",
            " time_distributed_2 (TimeDis  (None, 30, 1)            129       \n",
            " tributed)                                                       \n",
            "                                                                 \n",
            "=================================================================\n",
            "Total params: 203,393\n",
            "Trainable params: 203,393\n",
            "Non-trainable params: 0\n",
            "_________________________________________________________________\n"
          ]
        }
      ]
    },
    {
      "cell_type": "code",
      "metadata": {
        "id": "iS-VFQNxwslT",
        "colab": {
          "base_uri": "https://localhost:8080/"
        },
        "outputId": "9ad8e211-9013-4142-dc27-410397220c94"
      },
      "source": [
        "#Bidirection LSTM\n",
        "model.compile(optimizer='adam', loss='mae')\n",
        "\n",
        "history = model.fit(CX_train, Cy_train, epochs=100, batch_size=32, validation_split=0.1,\n",
        "                    callbacks=[tf.keras.callbacks.EarlyStopping(monitor='val_loss', patience=3, mode='min')], shuffle=False)\n"
      ],
      "execution_count": null,
      "outputs": [
        {
          "output_type": "stream",
          "name": "stdout",
          "text": [
            "Epoch 1/100\n",
            "29/29 [==============================] - 8s 135ms/step - loss: 0.4238 - val_loss: 0.1848\n",
            "Epoch 2/100\n",
            "29/29 [==============================] - 3s 100ms/step - loss: 0.1287 - val_loss: 0.0682\n",
            "Epoch 3/100\n",
            "29/29 [==============================] - 3s 102ms/step - loss: 0.0919 - val_loss: 0.0501\n",
            "Epoch 4/100\n",
            "29/29 [==============================] - 3s 100ms/step - loss: 0.0749 - val_loss: 0.0465\n",
            "Epoch 5/100\n",
            "29/29 [==============================] - 3s 101ms/step - loss: 0.0634 - val_loss: 0.0677\n",
            "Epoch 6/100\n",
            "29/29 [==============================] - 3s 121ms/step - loss: 0.0596 - val_loss: 0.0344\n",
            "Epoch 7/100\n",
            "29/29 [==============================] - 5s 157ms/step - loss: 0.0481 - val_loss: 0.0323\n",
            "Epoch 8/100\n",
            "29/29 [==============================] - 3s 101ms/step - loss: 0.0427 - val_loss: 0.0225\n",
            "Epoch 9/100\n",
            "29/29 [==============================] - 3s 98ms/step - loss: 0.0416 - val_loss: 0.0148\n",
            "Epoch 10/100\n",
            "29/29 [==============================] - 3s 100ms/step - loss: 0.0388 - val_loss: 0.0092\n",
            "Epoch 11/100\n",
            "29/29 [==============================] - 3s 104ms/step - loss: 0.0370 - val_loss: 0.0048\n",
            "Epoch 12/100\n",
            "29/29 [==============================] - 3s 102ms/step - loss: 0.0365 - val_loss: 0.0092\n",
            "Epoch 13/100\n",
            "29/29 [==============================] - 3s 101ms/step - loss: 0.0360 - val_loss: 0.0113\n",
            "Epoch 14/100\n",
            "29/29 [==============================] - 3s 100ms/step - loss: 0.0358 - val_loss: 0.0076\n"
          ]
        }
      ]
    },
    {
      "cell_type": "code",
      "source": [
        "plt.plot(history.history['loss'], label='Training loss')\n",
        "plt.plot(history.history['val_loss'], label='Validation loss')\n",
        "plt.legend();"
      ],
      "metadata": {
        "colab": {
          "base_uri": "https://localhost:8080/",
          "height": 265
        },
        "id": "9hq8oXnPgjrz",
        "outputId": "40cf096f-ad8e-4f9b-8f5f-7c9f19133080"
      },
      "execution_count": null,
      "outputs": [
        {
          "output_type": "display_data",
          "data": {
            "text/plain": [
              "<Figure size 432x288 with 1 Axes>"
            ],
            "image/png": "[encoded data removed]"
          },
          "metadata": {
            "needs_background": "light"
          }
        }
      ]
    },
    {
      "cell_type": "markdown",
      "metadata": {
        "id": "hWO5UayZG8n8"
      },
      "source": [
        "#### **Infer**"
      ]
    },
    {
      "cell_type": "markdown",
      "source": [
        "##### Train data"
      ],
      "metadata": {
        "id": "drzZeaIyj7lY"
      }
    },
    {
      "cell_type": "code",
      "metadata": {
        "id": "ax68X_PzxEWC",
        "colab": {
          "base_uri": "https://localhost:8080/",
          "height": 314
        },
        "outputId": "23567a13-284c-4231-d242-e74a0a1d00aa"
      },
      "source": [
        "model.evaluate(CX_test, Cy_test)\n",
        "\n",
        "CX_train_pred = model.predict(CX_train, verbose=0)\n",
        "train_mae_loss = np.mean(np.abs(CX_train_pred - CX_train), axis=1).reshape([-1])\n",
        "\n",
        "plt.hist(train_mae_loss, bins=50)\n",
        "plt.xlabel('Train MAE loss')\n",
        "plt.ylabel('Number of Samples');\n",
        "\n",
        "threshold = np.max(train_mae_loss)\n",
        "print(f'Reconstruction error threshold: {threshold}')\n",
        "\n",
        "#show_scattered(Cy_train)\n",
        "#show_scattered(CX_train_pred)"
      ],
      "execution_count": null,
      "outputs": [
        {
          "output_type": "stream",
          "name": "stdout",
          "text": [
            "7/7 [==============================] - 0s 29ms/step - loss: 0.0069\n",
            "Reconstruction error threshold: 1.0065378626187642\n"
          ]
        },
        {
          "output_type": "display_data",
          "data": {
            "text/plain": [
              "<Figure size 432x288 with 1 Axes>"
            ],
            "image/png": "[encoded data removed]"
          },
          "metadata": {
            "needs_background": "light"
          }
        }
      ]
    },
    {
      "cell_type": "markdown",
      "source": [
        "##### Test data"
      ],
      "metadata": {
        "id": "9zWkr8dRkRvf"
      }
    },
    {
      "cell_type": "code",
      "metadata": {
        "id": "SRrWsEQUxD20",
        "colab": {
          "base_uri": "https://localhost:8080/",
          "height": 279
        },
        "outputId": "1ad9d2fa-9000-46f0-b90a-88466627f56d"
      },
      "source": [
        "CX_test_pred = model.predict(CX_test, verbose=0)\n",
        "test_mae_loss = np.mean(np.abs(CX_test_pred - CX_test), axis=1).reshape([-1])\n",
        "plt.hist(test_mae_loss, bins=50)\n",
        "plt.xlabel('Test MAE loss')\n",
        "plt.ylabel('Number of samples');"
      ],
      "execution_count": null,
      "outputs": [
        {
          "output_type": "display_data",
          "data": {
            "text/plain": [
              "<Figure size 432x288 with 1 Axes>"
            ],
            "image/png": "[encoded data removed]"
          },
          "metadata": {
            "needs_background": "light"
          }
        }
      ]
    },
    {
      "cell_type": "code",
      "source": [
        "print(\"CX_test=\", CX_test.shape)\n",
        "print(\"Cy_test=\", Cy_test.shape)\n",
        "test_score_df = pd.DataFrame(Cy_test.reshape([-1]))\n",
        "\n",
        "#test_score_df['loss'] = test_mae_loss\n",
        "test_score_df['threshold'] = threshold\n",
        "\n",
        "\n",
        "\n",
        "import plotly.express as px\n",
        "df = px.data.medals_long()\n",
        "\n",
        "fig = px.scatter(df, y=test_score_df[0], x=test_score_df[1])\n",
        "fig.show()"
      ],
      "metadata": {
        "colab": {
          "base_uri": "https://localhost:8080/",
          "height": 537
        },
        "id": "_VWxtMmOjyh_",
        "outputId": "d7cadab9-2cac-43b3-ae7e-2411a714a139"
      },
      "execution_count": null,
      "outputs": [
        {
          "output_type": "stream",
          "name": "stdout",
          "text": [
            "CX_test= (200, 30, 11)\n",
            "Cy_test= (200, 30, 1)\n"
          ]
        },
        {
          "output_type": "error",
          "ename": "KeyError",
          "evalue": "ignored",
          "traceback": [
            "\u001b[0;31m---------------------------------------------------------------------------\u001b[0m",
            "\u001b[0;31mKeyError\u001b[0m                                  Traceback (most recent call last)",
            "\u001b[0;32m/usr/local/lib/python3.8/dist-packages/pandas/core/indexes/base.py\u001b[0m in \u001b[0;36mget_loc\u001b[0;34m(self, key, method, tolerance)\u001b[0m\n\u001b[1;32m   3360\u001b[0m             \u001b[0;32mtry\u001b[0m\u001b[0;34m:\u001b[0m\u001b[0;34m\u001b[0m\u001b[0;34m\u001b[0m\u001b[0m\n\u001b[0;32m-> 3361\u001b[0;31m                 \u001b[0;32mreturn\u001b[0m \u001b[0mself\u001b[0m\u001b[0;34m.\u001b[0m\u001b[0m_engine\u001b[0m\u001b[0;34m.\u001b[0m\u001b[0mget_loc\u001b[0m\u001b[0;34m(\u001b[0m\u001b[0mcasted_key\u001b[0m\u001b[0;34m)\u001b[0m\u001b[0;34m\u001b[0m\u001b[0;34m\u001b[0m\u001b[0m\n\u001b[0m\u001b[1;32m   3362\u001b[0m             \u001b[0;32mexcept\u001b[0m \u001b[0mKeyError\u001b[0m \u001b[0;32mas\u001b[0m \u001b[0merr\u001b[0m\u001b[0;34m:\u001b[0m\u001b[0;34m\u001b[0m\u001b[0;34m\u001b[0m\u001b[0m\n",
            "\u001b[0;32m/usr/local/lib/python3.8/dist-packages/pandas/_libs/index.pyx\u001b[0m in \u001b[0;36mpandas._libs.index.IndexEngine.get_loc\u001b[0;34m()\u001b[0m\n",
            "\u001b[0;32m/usr/local/lib/python3.8/dist-packages/pandas/_libs/index.pyx\u001b[0m in \u001b[0;36mpandas._libs.index.IndexEngine.get_loc\u001b[0;34m()\u001b[0m\n",
            "\u001b[0;32mpandas/_libs/hashtable_class_helper.pxi\u001b[0m in \u001b[0;36mpandas._libs.hashtable.PyObjectHashTable.get_item\u001b[0;34m()\u001b[0m\n",
            "\u001b[0;32mpandas/_libs/hashtable_class_helper.pxi\u001b[0m in \u001b[0;36mpandas._libs.hashtable.PyObjectHashTable.get_item\u001b[0;34m()\u001b[0m\n",
            "\u001b[0;31mKeyError\u001b[0m: 1",
            "\nThe above exception was the direct cause of the following exception:\n",
            "\u001b[0;31mKeyError\u001b[0m                                  Traceback (most recent call last)",
            "\u001b[0;32m<ipython-input-72-4592a4088b93>\u001b[0m in \u001b[0;36m<module>\u001b[0;34m\u001b[0m\n\u001b[1;32m     11\u001b[0m \u001b[0mdf\u001b[0m \u001b[0;34m=\u001b[0m \u001b[0mpx\u001b[0m\u001b[0;34m.\u001b[0m\u001b[0mdata\u001b[0m\u001b[0;34m.\u001b[0m\u001b[0mmedals_long\u001b[0m\u001b[0;34m(\u001b[0m\u001b[0;34m)\u001b[0m\u001b[0;34m\u001b[0m\u001b[0;34m\u001b[0m\u001b[0m\n\u001b[1;32m     12\u001b[0m \u001b[0;34m\u001b[0m\u001b[0m\n\u001b[0;32m---> 13\u001b[0;31m \u001b[0mfig\u001b[0m \u001b[0;34m=\u001b[0m \u001b[0mpx\u001b[0m\u001b[0;34m.\u001b[0m\u001b[0mscatter\u001b[0m\u001b[0;34m(\u001b[0m\u001b[0mdf\u001b[0m\u001b[0;34m,\u001b[0m \u001b[0my\u001b[0m\u001b[0;34m=\u001b[0m\u001b[0mtest_score_df\u001b[0m\u001b[0;34m[\u001b[0m\u001b[0;36m0\u001b[0m\u001b[0;34m]\u001b[0m\u001b[0;34m,\u001b[0m \u001b[0mx\u001b[0m\u001b[0;34m=\u001b[0m\u001b[0mtest_score_df\u001b[0m\u001b[0;34m[\u001b[0m\u001b[0;36m1\u001b[0m\u001b[0;34m]\u001b[0m\u001b[0;34m)\u001b[0m\u001b[0;34m\u001b[0m\u001b[0;34m\u001b[0m\u001b[0m\n\u001b[0m\u001b[1;32m     14\u001b[0m \u001b[0mfig\u001b[0m\u001b[0;34m.\u001b[0m\u001b[0mshow\u001b[0m\u001b[0;34m(\u001b[0m\u001b[0;34m)\u001b[0m\u001b[0;34m\u001b[0m\u001b[0;34m\u001b[0m\u001b[0m\n",
            "\u001b[0;32m/usr/local/lib/python3.8/dist-packages/pandas/core/frame.py\u001b[0m in \u001b[0;36m__getitem__\u001b[0;34m(self, key)\u001b[0m\n\u001b[1;32m   3456\u001b[0m             \u001b[0;32mif\u001b[0m \u001b[0mself\u001b[0m\u001b[0;34m.\u001b[0m\u001b[0mcolumns\u001b[0m\u001b[0;34m.\u001b[0m\u001b[0mnlevels\u001b[0m \u001b[0;34m>\u001b[0m \u001b[0;36m1\u001b[0m\u001b[0;34m:\u001b[0m\u001b[0;34m\u001b[0m\u001b[0;34m\u001b[0m\u001b[0m\n\u001b[1;32m   3457\u001b[0m                 \u001b[0;32mreturn\u001b[0m \u001b[0mself\u001b[0m\u001b[0;34m.\u001b[0m\u001b[0m_getitem_multilevel\u001b[0m\u001b[0;34m(\u001b[0m\u001b[0mkey\u001b[0m\u001b[0;34m)\u001b[0m\u001b[0;34m\u001b[0m\u001b[0;34m\u001b[0m\u001b[0m\n\u001b[0;32m-> 3458\u001b[0;31m             \u001b[0mindexer\u001b[0m \u001b[0;34m=\u001b[0m \u001b[0mself\u001b[0m\u001b[0;34m.\u001b[0m\u001b[0mcolumns\u001b[0m\u001b[0;34m.\u001b[0m\u001b[0mget_loc\u001b[0m\u001b[0;34m(\u001b[0m\u001b[0mkey\u001b[0m\u001b[0;34m)\u001b[0m\u001b[0;34m\u001b[0m\u001b[0;34m\u001b[0m\u001b[0m\n\u001b[0m\u001b[1;32m   3459\u001b[0m             \u001b[0;32mif\u001b[0m \u001b[0mis_integer\u001b[0m\u001b[0;34m(\u001b[0m\u001b[0mindexer\u001b[0m\u001b[0;34m)\u001b[0m\u001b[0;34m:\u001b[0m\u001b[0;34m\u001b[0m\u001b[0;34m\u001b[0m\u001b[0m\n\u001b[1;32m   3460\u001b[0m                 \u001b[0mindexer\u001b[0m \u001b[0;34m=\u001b[0m \u001b[0;34m[\u001b[0m\u001b[0mindexer\u001b[0m\u001b[0;34m]\u001b[0m\u001b[0;34m\u001b[0m\u001b[0;34m\u001b[0m\u001b[0m\n",
            "\u001b[0;32m/usr/local/lib/python3.8/dist-packages/pandas/core/indexes/base.py\u001b[0m in \u001b[0;36mget_loc\u001b[0;34m(self, key, method, tolerance)\u001b[0m\n\u001b[1;32m   3361\u001b[0m                 \u001b[0;32mreturn\u001b[0m \u001b[0mself\u001b[0m\u001b[0;34m.\u001b[0m\u001b[0m_engine\u001b[0m\u001b[0;34m.\u001b[0m\u001b[0mget_loc\u001b[0m\u001b[0;34m(\u001b[0m\u001b[0mcasted_key\u001b[0m\u001b[0;34m)\u001b[0m\u001b[0;34m\u001b[0m\u001b[0;34m\u001b[0m\u001b[0m\n\u001b[1;32m   3362\u001b[0m             \u001b[0;32mexcept\u001b[0m \u001b[0mKeyError\u001b[0m \u001b[0;32mas\u001b[0m \u001b[0merr\u001b[0m\u001b[0;34m:\u001b[0m\u001b[0;34m\u001b[0m\u001b[0;34m\u001b[0m\u001b[0m\n\u001b[0;32m-> 3363\u001b[0;31m                 \u001b[0;32mraise\u001b[0m \u001b[0mKeyError\u001b[0m\u001b[0;34m(\u001b[0m\u001b[0mkey\u001b[0m\u001b[0;34m)\u001b[0m \u001b[0;32mfrom\u001b[0m \u001b[0merr\u001b[0m\u001b[0;34m\u001b[0m\u001b[0;34m\u001b[0m\u001b[0m\n\u001b[0m\u001b[1;32m   3364\u001b[0m \u001b[0;34m\u001b[0m\u001b[0m\n\u001b[1;32m   3365\u001b[0m         \u001b[0;32mif\u001b[0m \u001b[0mis_scalar\u001b[0m\u001b[0;34m(\u001b[0m\u001b[0mkey\u001b[0m\u001b[0;34m)\u001b[0m \u001b[0;32mand\u001b[0m \u001b[0misna\u001b[0m\u001b[0;34m(\u001b[0m\u001b[0mkey\u001b[0m\u001b[0;34m)\u001b[0m \u001b[0;32mand\u001b[0m \u001b[0;32mnot\u001b[0m \u001b[0mself\u001b[0m\u001b[0;34m.\u001b[0m\u001b[0mhasnans\u001b[0m\u001b[0;34m:\u001b[0m\u001b[0;34m\u001b[0m\u001b[0;34m\u001b[0m\u001b[0m\n",
            "\u001b[0;31mKeyError\u001b[0m: 1"
          ]
        }
      ]
    },
    {
      "cell_type": "markdown",
      "metadata": {
        "id": "DER9DuHSa5hH"
      },
      "source": [
        "### **Multi Class**"
      ]
    },
    {
      "cell_type": "code",
      "metadata": {
        "id": "T0bKOdGia9Oa"
      },
      "source": [
        "categories = ['Benign', 'FTP-BruteForce', 'SSH-Bruteforce',\n",
        "              'DoS attacks-GoldenEye', 'DoS attacks-Slowloris', 'DoS attacks-SlowHTTPTest',\n",
        "              'DoS attacks-Hulk', 'Brute Force -Web', 'Brute Force -XSS',\n",
        "              'SQL Injection', 'Infiltration', 'Bot']"
      ],
      "execution_count": null,
      "outputs": []
    },
    {
      "cell_type": "code",
      "metadata": {
        "id": "9G0WRcoMa-uw"
      },
      "source": [
        "encoder = LabelEncoder()\n",
        "encoder.fit(categories)\n",
        "y = encoder.transform(labels)\n",
        "y = np_utils.to_categorical(y, num_classes=12)"
      ],
      "execution_count": null,
      "outputs": []
    },
    {
      "cell_type": "code",
      "metadata": {
        "id": "r3kN1kPwbHg7"
      },
      "source": [
        "model = tf.keras.Sequential([\n",
        "    tf.keras.layers.Embedding(100000, 64, embeddings_regularizer='l2'), # since it doesn't consider \"words,\" the embedding doesn't really matter\n",
        "    tf.keras.layers.Bidirectional(tf.keras.layers.LSTM(64)),\n",
        "    tf.keras.layers.Dropout(0.4),\n",
        "    tf.keras.layers.Dense(64, activation='relu', use_bias=True, bias_regularizer='l2'),\n",
        "    tf.keras.layers.Dropout(0.2),\n",
        "    tf.keras.layers.Dense(12, activation='sigmoid')\n",
        "    # tf.keras.layers.Dense(1, activation='softmax') # loss too big\n",
        "])"
      ],
      "execution_count": null,
      "outputs": []
    },
    {
      "cell_type": "code",
      "metadata": {
        "id": "dAWdPRbXolXO",
        "colab": {
          "base_uri": "https://localhost:8080/"
        },
        "outputId": "9f218b16-4eda-4243-c908-0c148298093b"
      },
      "source": [
        "X_train.shape, y_train.shape"
      ],
      "execution_count": null,
      "outputs": [
        {
          "output_type": "execute_result",
          "data": {
            "text/plain": [
              "((8000, 11), (8000,))"
            ]
          },
          "metadata": {},
          "execution_count": 42
        }
      ]
    },
    {
      "cell_type": "code",
      "metadata": {
        "id": "qw5yKr6-bQe6",
        "colab": {
          "base_uri": "https://localhost:8080/"
        },
        "outputId": "28c62c84-0080-48ef-8e84-91cb570507ad"
      },
      "source": [
        "model.compile(loss='sparse_categorical_crossentropy',\n",
        "              # optimizer='sgd', # almost same\n",
        "              optimizer=tf.keras.optimizers.Adam(1e-4),\n",
        "              metrics=['accuracy'])\n",
        "history = model.fit(X_train.values, y_train.values, epochs=3)\n",
        "model.save('/cic/models/LSTM_MC_L2')"
      ],
      "execution_count": null,
      "outputs": [
        {
          "output_type": "stream",
          "name": "stdout",
          "text": [
            "Epoch 1/3\n",
            "250/250 [==============================] - 20s 66ms/step - loss: 27.7375 - accuracy: 0.9542\n",
            "Epoch 2/3\n",
            "250/250 [==============================] - 17s 69ms/step - loss: 4.7209 - accuracy: 0.9992\n",
            "Epoch 3/3\n",
            "250/250 [==============================] - 17s 67ms/step - loss: 0.5917 - accuracy: 0.9992\n"
          ]
        },
        {
          "output_type": "stream",
          "name": "stderr",
          "text": [
            "WARNING:absl:Found untraced functions such as lstm_cell_7_layer_call_fn, lstm_cell_7_layer_call_and_return_conditional_losses, lstm_cell_8_layer_call_fn, lstm_cell_8_layer_call_and_return_conditional_losses while saving (showing 4 of 4). These functions will not be directly callable after loading.\n"
          ]
        }
      ]
    },
    {
      "cell_type": "code",
      "metadata": {
        "id": "Y2HCh4UhbheN",
        "colab": {
          "base_uri": "https://localhost:8080/",
          "height": 530
        },
        "outputId": "9bcb835e-9d81-42ea-9b6f-6178112faa1f"
      },
      "source": [
        "pred_class = model.predict(X_test.values[:])\n",
        "predictions = [int(round(x[0])) for x in pred_class]\n",
        "true_class = list(y_test)\n",
        "np.sum(predictions == y_test.values) / len(y_test.values)\n",
        "\n",
        "show_scattered(y_test.values)\n",
        "show_scattered(pred_class)"
      ],
      "execution_count": null,
      "outputs": [
        {
          "output_type": "stream",
          "name": "stdout",
          "text": [
            "63/63 [==============================] - 0s 4ms/step\n"
          ]
        },
        {
          "output_type": "display_data",
          "data": {
            "text/plain": [
              "<Figure size 432x288 with 1 Axes>"
            ],
            "image/png": "[encoded data removed]"
          },
          "metadata": {
            "needs_background": "light"
          }
        },
        {
          "output_type": "display_data",
          "data": {
            "text/plain": [
              "<Figure size 432x288 with 1 Axes>"
            ],
            "image/png": "[encoded data removed]"
          },
          "metadata": {
            "needs_background": "light"
          }
        }
      ]
    },
    {
      "cell_type": "code",
      "metadata": {
        "id": "4S6potN6buR9"
      },
      "source": [
        "compdf = pd.DataFrame({'pred_class':predictions, 'true_class':true_class})\n",
        "compdf = compdf.sort_values('pred_class', ascending=True)\n",
        "predictions = list(compdf['pred_class'].apply(myRound, r=225))\n",
        "true_class = list(compdf['true_class'])"
      ],
      "execution_count": null,
      "outputs": []
    },
    {
      "cell_type": "code",
      "metadata": {
        "id": "WTq1Vkoybyl2",
        "colab": {
          "base_uri": "https://localhost:8080/"
        },
        "outputId": "f0dcbec6-b2ac-4aa1-b31d-225e1860c33c"
      },
      "source": [
        "confm = confusion_matrix(true_class, predictions)\n",
        "confm"
      ],
      "execution_count": null,
      "outputs": [
        {
          "output_type": "execute_result",
          "data": {
            "text/plain": [
              "array([[   4,    0],\n",
              "       [1996,    0]])"
            ]
          },
          "metadata": {},
          "execution_count": 46
        }
      ]
    },
    {
      "cell_type": "code",
      "metadata": {
        "colab": {
          "base_uri": "https://localhost:8080/",
          "height": 754
        },
        "id": "7ilu8oBWEoBp",
        "outputId": "011766ed-d92c-45e6-cda7-485691161c59"
      },
      "source": [
        "tf.keras.utils.plot_model(model, to_file='model.png', show_shapes=True, show_layer_names=False)"
      ],
      "execution_count": null,
      "outputs": [
        {
          "output_type": "execute_result",
          "data": {
            "image/png": "[encoded data removed]",
            "text/plain": [
              "<IPython.core.display.Image object>"
            ]
          },
          "metadata": {},
          "execution_count": 47
        }
      ]
    },
    {
      "cell_type": "code",
      "metadata": {
        "id": "j4PODlF4E0_d"
      },
      "source": [],
      "execution_count": null,
      "outputs": []
    }
  ]
}